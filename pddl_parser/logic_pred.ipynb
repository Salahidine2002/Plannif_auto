{
 "cells": [
  {
   "cell_type": "code",
   "execution_count": 1,
   "metadata": {},
   "outputs": [
    {
     "name": "stdout",
     "output_type": "stream",
     "text": [
      "Collecting pylogics\n",
      "  Downloading pylogics-0.2.1-py3-none-any.whl.metadata (3.9 kB)\n",
      "Requirement already satisfied: lark<2.0.0,>=1.1.5 in c:\\users\\melanie pacheco\\anaconda3\\envs\\anlp\\lib\\site-packages (from pylogics) (1.1.9)\n",
      "Downloading pylogics-0.2.1-py3-none-any.whl (37 kB)\n",
      "Installing collected packages: pylogics\n",
      "Successfully installed pylogics-0.2.1\n"
     ]
    },
    {
     "name": "stderr",
     "output_type": "stream",
     "text": [
      "\n",
      "[notice] A new release of pip is available: 23.3.1 -> 24.0\n",
      "[notice] To update, run: python.exe -m pip install --upgrade pip\n"
     ]
    }
   ],
   "source": [
    "!pip install pylogics\n"
   ]
  },
  {
   "cell_type": "code",
   "execution_count": 2,
   "metadata": {},
   "outputs": [],
   "source": [
    "from pylogics.parsers import parse_pl\n",
    "formula = parse_pl(\"(a & b) | (c & d)\")"
   ]
  },
  {
   "cell_type": "code",
   "execution_count": 4,
   "metadata": {},
   "outputs": [
    {
     "data": {
      "text/plain": [
       "<Logic.PL: 'pl'>"
      ]
     },
     "execution_count": 4,
     "metadata": {},
     "output_type": "execute_result"
    }
   ],
   "source": [
    "formula.logic"
   ]
  },
  {
   "cell_type": "code",
   "execution_count": 5,
   "metadata": {},
   "outputs": [],
   "source": [
    "from pylogics.semantics.pl import evaluate_pl"
   ]
  },
  {
   "cell_type": "code",
   "execution_count": 6,
   "metadata": {},
   "outputs": [
    {
     "data": {
      "text/plain": [
       "False"
      ]
     },
     "execution_count": 6,
     "metadata": {},
     "output_type": "execute_result"
    }
   ],
   "source": [
    "evaluate_pl(formula, {'a'})  # returns False"
   ]
  },
  {
   "cell_type": "code",
   "execution_count": 7,
   "metadata": {},
   "outputs": [
    {
     "data": {
      "text/plain": [
       "True"
      ]
     },
     "execution_count": 7,
     "metadata": {},
     "output_type": "execute_result"
    }
   ],
   "source": [
    "evaluate_pl(formula, {'a', 'b'})  # returns True"
   ]
  },
  {
   "cell_type": "code",
   "execution_count": 8,
   "metadata": {},
   "outputs": [
    {
     "data": {
      "text/plain": [
       "True"
      ]
     },
     "execution_count": 8,
     "metadata": {},
     "output_type": "execute_result"
    }
   ],
   "source": [
    "evaluate_pl(formula, {'a': True, 'b': True, 'c': False})  # returns True"
   ]
  },
  {
   "cell_type": "code",
   "execution_count": 7,
   "metadata": {},
   "outputs": [
    {
     "name": "stdout",
     "output_type": "stream",
     "text": [
      "2\n",
      "1\n"
     ]
    }
   ],
   "source": [
    "predicates = {'adjacent': {'?l1': 'light', '?l2': 'light'}, 'on': {'?l1': 'light'}}\n",
    "for pred_name, objects in predicates.items():\n",
    "    print(len(objects))"
   ]
  },
  {
   "cell_type": "code",
   "execution_count": null,
   "metadata": {},
   "outputs": [],
   "source": []
  },
  {
   "cell_type": "code",
   "execution_count": 17,
   "metadata": {},
   "outputs": [
    {
     "name": "stdout",
     "output_type": "stream",
     "text": [
      "Evaluation: False\n",
      "Evaluation: False\n"
     ]
    }
   ],
   "source": [
    "a = [ontable(b0), on(b1, b0), on(x,b1)]\n",
    "print(\"Evaluation:\", And(*a).evaluate(kb, {x:b0}) )\n",
    "print(\"Evaluation:\", (ontable(b0) & on(b1, b0) & on(x,b1)).evaluate(kb, {x:b0}) )"
   ]
  },
  {
   "cell_type": "code",
   "execution_count": 18,
   "metadata": {},
   "outputs": [
    {
     "data": {
      "text/plain": [
       "0"
      ]
     },
     "execution_count": 18,
     "metadata": {},
     "output_type": "execute_result"
    }
   ],
   "source": [
    "b0.name"
   ]
  },
  {
   "cell_type": "code",
   "execution_count": 3,
   "metadata": {},
   "outputs": [
    {
     "name": "stdout",
     "output_type": "stream",
     "text": [
      "Evaluation: True\n",
      "Evaluation: True\n",
      "Evaluation: True\n",
      "Evaluation: False\n",
      "Evaluation: False\n",
      "Evaluation: True\n",
      "Evaluation: False\n",
      "----\n",
      "Evaluation: True\n",
      "Evaluation: False\n",
      "Evaluation: False\n",
      "Evaluation: True\n",
      "Evaluation: True\n",
      "---\n",
      "Evaluation: False\n",
      "Evaluation: True\n",
      "Evaluation: True\n",
      "---\n",
      "Evaluation: True\n",
      "Evaluation: True\n",
      "Evaluation: True\n",
      "Evaluation: True\n",
      "Evaluation: False\n",
      "Evaluation: False\n",
      "---\n",
      "Evaluation: True\n",
      "Evaluation: False\n",
      "Evaluation: True\n",
      "Evaluation: True\n",
      "Evaluation: False\n",
      "Evaluation: True\n",
      "---\n",
      "Count: [('x', 3), ('x', 4), ('x', 2), ('x', 1)]\n",
      "Count: [(3, 0), (4, 0), (2, 0), (1, 0)]\n",
      "Count: [('y', 0)]\n"
     ]
    }
   ],
   "source": [
    "# A few examples of use of the logic module\n",
    "\n",
    "from logic import *\n",
    "\n",
    "b0, b1, b2, b3, b4 = Constant(0), Constant(1), Constant(2), Constant(3), Constant(4)\n",
    "x, y = Variable('x'), Variable('y')\n",
    "\n",
    "kb = ({b0,b1,b2},{('ontable', (0,)), ('on',(1,0)), ('on', (2,1)), ('clear',(2,)), \n",
    "\t('handempty', tuple())})\n",
    "\n",
    "handempty = Predicate('handempty', 0)\n",
    "ontable = Predicate('ontable', 1)\n",
    "on = Predicate('on', 2)\n",
    "clear = Predicate('clear', 1)\n",
    "\n",
    "print(\"Evaluation:\", handempty().evaluate(kb))\n",
    "print(\"Evaluation:\", ontable(x).evaluate(kb, {x:b0}))\n",
    "\n",
    "print(\"Evaluation:\", (x != y).evaluate(kb, {x:b1, y:b0}))\n",
    "\n",
    "print(\"Evaluation:\", And(ontable(b0), on(b1, b0), on(x,b1)).evaluate(kb, {x:b0}) )\n",
    "print(\"Evaluation:\", (ontable(b0) & on(b1, b0) & on(x,b1)).evaluate(kb, {x:b0}) )\n",
    "print(\"Evaluation:\", (ontable(b0) & on(b1, b0) | on(x,b1)).evaluate(kb, {x:b0}) )\n",
    "print(\"Evaluation:\", (~(ontable(b0) & on(b1, b0) | on(x,b1))).evaluate(kb, {x:b0}) )\n",
    "\n",
    "# --- Quantifiers\n",
    "\n",
    "kb2 = (frozenset((b0,b1,b2,b3,b4)), frozenset(( ('on', (1,0)), ('on', (2,0)), ('on', (3,0)), ('on', (4,0)) )))\n",
    "\n",
    "print(\"----\")\n",
    "print(\"Evaluation:\", TE(x, on(x, b0)).evaluate(kb2))\n",
    "print(\"Evaluation:\", TE(x, on(x, b1)).evaluate(kb2))\n",
    "print(\"Evaluation:\", TE(y,TE(x, on(x, y) & (x == y))).evaluate(kb2)) # Due to precedence, we need the parenthesis around x==y\n",
    "print(\"Evaluation:\", TE(y,TE(x, on(x, y) & (x != y))).evaluate(kb2))\n",
    "print(\"Evaluation:\", TE(y,TE(x, on(x, y))).evaluate(kb2))\n",
    "\n",
    "print(\"---\")\n",
    "print(\"Evaluation:\", FA(x, on(x, b0)).evaluate(kb2)) # False because on(b0,b0) is False\n",
    "print(\"Evaluation:\", FA(x, (x != b0) >> on(x, b0)).evaluate(kb2))\n",
    "# For every x that is not b0, it is on top of another block\n",
    "print(\"Evaluation:\", FA(x, (x != b0) >> TE(y, on(x,y) & (x!=y))).evaluate(kb2))\n",
    "\n",
    "print(\"---\")\n",
    "print(\"Evaluation:\", TEC(x, 1, 1, on(b1,x)).evaluate(kb2))\n",
    "print(\"Evaluation:\", (TE(x, on(b1,x)) == 1).evaluate(kb2))\n",
    "print(\"Evaluation:\", (TE(x, on(b1,x)) >= 1).evaluate(kb2))\n",
    "print(\"Evaluation:\", (TE(x, on(b1,x)) <= 1).evaluate(kb2))\n",
    "print(\"Evaluation:\", (TE(x, on(b1,x)) > 1).evaluate(kb2))\n",
    "print(\"Evaluation:\", (TE(x, on(b1,x)) < 1).evaluate(kb2))\n",
    "\n",
    "print(\"---\")\n",
    "print(\"Evaluation:\", TEC(y, 4, -1, on(y,b0)).evaluate(kb2))\n",
    "print(\"Evaluation:\", TEC(y, 4, -1, on(y,b0) & (y!=b1)).evaluate(kb2))\n",
    "print(\"Evaluation:\", TEC(y, 3, 3, on(y,b0) & (y!=b1)).evaluate(kb2))\n",
    "print(\"Evaluation:\", TEC(x, 1, 1, TE(y, on(y,x)) ).evaluate(kb2)) # How many blocks have another block on top\n",
    "print(\"Evaluation:\", TEC(x, 2, -1, TE(y, on(y,x)) ).evaluate(kb2))\n",
    "print(\"Evaluation:\", ( TE(x, TE(y, on(y,x))) == 1  ).evaluate(kb2)) \n",
    "\n",
    "print(\"---\")\n",
    "print(\"Count:\", [ (x.name, b[x].name) for b in Count( on(x,b0), x).evaluate(kb2)[1] ] )\n",
    "print(\"Count:\", [ (b[x].name, b[y].name) for b in Count( on(x,y) & (x!=y), x, y).evaluate(kb2)[1] ] )\n",
    "print(\"Count:\", [ (y.name, b[y].name) for b in Count( FA(x, on(x,y) | (x==y)), y ).evaluate(kb2)[1] ] ) # Only b0 has all other blocks on top of it"
   ]
  },
  {
   "cell_type": "code",
   "execution_count": null,
   "metadata": {},
   "outputs": [],
   "source": []
  }
 ],
 "metadata": {
  "kernelspec": {
   "display_name": "ANLP",
   "language": "python",
   "name": "python3"
  },
  "language_info": {
   "codemirror_mode": {
    "name": "ipython",
    "version": 3
   },
   "file_extension": ".py",
   "mimetype": "text/x-python",
   "name": "python",
   "nbconvert_exporter": "python",
   "pygments_lexer": "ipython3",
   "version": "3.10.10"
  }
 },
 "nbformat": 4,
 "nbformat_minor": 2
}
